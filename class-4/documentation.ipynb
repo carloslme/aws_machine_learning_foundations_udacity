{
  "nbformat": 4,
  "nbformat_minor": 0,
  "metadata": {
    "colab": {
      "name": "documentation.ipynb",
      "provenance": [],
      "authorship_tag": "ABX9TyOrA/6qJ6Vc8N3s3NtrIdYP",
      "include_colab_link": true
    },
    "kernelspec": {
      "name": "python3",
      "display_name": "Python 3"
    },
    "language_info": {
      "name": "python"
    }
  },
  "cells": [
    {
      "cell_type": "markdown",
      "metadata": {
        "id": "view-in-github",
        "colab_type": "text"
      },
      "source": [
        "<a href=\"https://colab.research.google.com/github/carloslme/aws_machine_learning_foundations_udacity/blob/main/class-4/documentation.ipynb\" target=\"_parent\"><img src=\"https://colab.research.google.com/assets/colab-badge.svg\" alt=\"Open In Colab\"/></a>"
      ]
    },
    {
      "cell_type": "markdown",
      "metadata": {
        "id": "KhC6MlKALz57"
      },
      "source": [
        "# Introduction\n",
        "Documentation is an additional text or illustrations that comes with or is embedded in software code.\n",
        "\n",
        "**Why documentation?**\n",
        "\n",
        "* Clarify complex parts of code\n",
        "* Navigate code easily\n",
        "* Describe use and purpose of components"
      ]
    },
    {
      "cell_type": "code",
      "metadata": {
        "id": "tQPFG5kPLw_9"
      },
      "source": [
        ""
      ],
      "execution_count": null,
      "outputs": []
    }
  ]
}