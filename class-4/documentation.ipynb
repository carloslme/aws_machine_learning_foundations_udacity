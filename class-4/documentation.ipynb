{
  "nbformat": 4,
  "nbformat_minor": 0,
  "metadata": {
    "colab": {
      "name": "documentation.ipynb",
      "provenance": [],
      "authorship_tag": "ABX9TyP23zedMCZTvmSfTRTC2hkZ",
      "include_colab_link": true
    },
    "kernelspec": {
      "name": "python3",
      "display_name": "Python 3"
    },
    "language_info": {
      "name": "python"
    }
  },
  "cells": [
    {
      "cell_type": "markdown",
      "metadata": {
        "id": "view-in-github",
        "colab_type": "text"
      },
      "source": [
        "<a href=\"https://colab.research.google.com/github/carloslme/aws_machine_learning_foundations_udacity/blob/main/class-4/documentation.ipynb\" target=\"_parent\"><img src=\"https://colab.research.google.com/assets/colab-badge.svg\" alt=\"Open In Colab\"/></a>"
      ]
    },
    {
      "cell_type": "markdown",
      "metadata": {
        "id": "KhC6MlKALz57"
      },
      "source": [
        "# Introduction\n",
        "Documentation is an additional text or illustrations that comes with or is embedded in software code.\n",
        "\n",
        "**Why documentation?**\n",
        "\n",
        "* Clarify complex parts of code\n",
        "* Navigate code easily\n",
        "* Describe use and purpose of components"
      ]
    },
    {
      "cell_type": "markdown",
      "metadata": {
        "id": "_1yhDRK9MbVh"
      },
      "source": [
        "# Types of documentation\n",
        "## Line level (inline comments)"
      ]
    },
    {
      "cell_type": "code",
      "metadata": {
        "id": "tQPFG5kPLw_9"
      },
      "source": [
        "# This is an in-line comment\n",
        "print('Hello') # also an in-line comment"
      ],
      "execution_count": null,
      "outputs": []
    },
    {
      "cell_type": "markdown",
      "metadata": {
        "id": "G12UqmH2Sr09"
      },
      "source": [
        "## Docstrings\n"
      ]
    },
    {
      "cell_type": "code",
      "metadata": {
        "id": "4XxRX9cxS22m"
      },
      "source": [
        "def population_density(population, land_area):\n",
        "  \"\"\"Calculate the population density of an area.\n",
        "  \n",
        "  Args:\n",
        "  population: int. The population of the area\n",
        "  land_area: int or float. This function is unit-agnostic, if you pass in values in terms of square km or square miles the functions will return a density in those units.\n",
        "\n",
        "  Returns:\n",
        "  population_density: population/land_area. The population density of a particular area\n",
        "  \"\"\"\n",
        "  return population/land_area"
      ],
      "execution_count": null,
      "outputs": []
    },
    {
      "cell_type": "markdown",
      "metadata": {
        "id": "eMKv3XdpUFzH"
      },
      "source": [
        "## Project Documentation\n",
        "Project documentation is essential for getting others to understand why and how your code is relevant to them, whether they are potentials users of your project or developers who may contribute to your code. A great first step in project documentation is your README file. It will often be the first interaction most users will have with your project.\n",
        "\n",
        "Whether it's an application or a package, your project should absolutely come with a README file. **At a minimum, this should explain what it does, list its dependencies, and provide sufficiently detailed instructions on how to use it.** Make it as simple as possible for others to understand the purpose of your project and quickly get something working.\n",
        "\n",
        "Translating all your ideas and thoughts formally on paper can be a little difficult, but you'll get better over time, and doing so makes a significant difference in helping others realize the value of your project. Writing this documentation can also help you improve the design of your code, as you're forced to think through your design decisions more thoroughly. It also helps future contributors to follow your original intentions.\n",
        "\n",
        "Here are a few READMEs from some popular projects:\n",
        "\n",
        "* [Bootstrap](https://github.com/twbs/bootstrap)\n",
        "* [Scikit-learn](https://github.com/scikit-learn/scikit-learn)\n",
        "* [Stack Overflow Blog](https://github.com/jjrunner/stackoverflow)"
      ]
    },
    {
      "cell_type": "code",
      "metadata": {
        "id": "OS7aMDEiTzUr"
      },
      "source": [
        "/"
      ],
      "execution_count": null,
      "outputs": []
    }
  ]
}