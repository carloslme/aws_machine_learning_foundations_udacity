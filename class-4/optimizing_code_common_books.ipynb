{
  "nbformat": 4,
  "nbformat_minor": 0,
  "metadata": {
    "kernelspec": {
      "display_name": "Python 3",
      "language": "python",
      "name": "python3"
    },
    "language_info": {
      "codemirror_mode": {
        "name": "ipython",
        "version": 3
      },
      "file_extension": ".py",
      "mimetype": "text/x-python",
      "name": "python",
      "nbconvert_exporter": "python",
      "pygments_lexer": "ipython3",
      "version": "3.6.3"
    },
    "colab": {
      "name": "optimizing-code-common-books.ipynb.txt",
      "provenance": [],
      "include_colab_link": true
    }
  },
  "cells": [
    {
      "cell_type": "markdown",
      "metadata": {
        "id": "view-in-github",
        "colab_type": "text"
      },
      "source": [
        "<a href=\"https://colab.research.google.com/github/carloslme/aws_machine_learning_foundations_udacity/blob/main/class-4/optimizing_code_common_books.ipynb\" target=\"_parent\"><img src=\"https://colab.research.google.com/assets/colab-badge.svg\" alt=\"Open In Colab\"/></a>"
      ]
    },
    {
      "cell_type": "markdown",
      "metadata": {
        "id": "rIOg8LNj8Rg1"
      },
      "source": [
        "# Optimizing Code: Common Books\n",
        "Here's the code your coworker wrote to find the common book ids in `books_published_last_two_years.txt` and `all_coding_books.txt` to obtain a list of recent coding books."
      ]
    },
    {
      "cell_type": "code",
      "metadata": {
        "id": "5fo7--eN8Rg4"
      },
      "source": [
        "import time\n",
        "import pandas as pd\n",
        "import numpy as np"
      ],
      "execution_count": 6,
      "outputs": []
    },
    {
      "cell_type": "code",
      "metadata": {
        "id": "ccy2OGQCecYA",
        "outputId": "6b7b4ea3-f1d6-4a40-a2e0-bd4472ee1ca0",
        "colab": {
          "base_uri": "https://localhost:8080/"
        }
      },
      "source": [
        "!wget https://raw.githubusercontent.com/carloslme/aws_machine_learning_foundations_udacity/main/class-4/books-published-last-two-years.txt\n",
        "!wget https://raw.githubusercontent.com/carloslme/aws_machine_learning_foundations_udacity/main/class-4/all-coding-books.txt"
      ],
      "execution_count": 7,
      "outputs": [
        {
          "output_type": "stream",
          "name": "stdout",
          "text": [
            "--2021-09-19 06:49:43--  https://raw.githubusercontent.com/carloslme/aws_machine_learning_foundations_udacity/main/class-4/books-published-last-two-years.txt\n",
            "Resolving raw.githubusercontent.com (raw.githubusercontent.com)... 185.199.109.133, 185.199.110.133, 185.199.108.133, ...\n",
            "Connecting to raw.githubusercontent.com (raw.githubusercontent.com)|185.199.109.133|:443... connected.\n",
            "HTTP request sent, awaiting response... 200 OK\n",
            "Length: 193264 (189K) [text/plain]\n",
            "Saving to: ‘books-published-last-two-years.txt.1’\n",
            "\n",
            "books-published-las 100%[===================>] 188.73K  --.-KB/s    in 0.03s   \n",
            "\n",
            "2021-09-19 06:49:43 (6.20 MB/s) - ‘books-published-last-two-years.txt.1’ saved [193264/193264]\n",
            "\n",
            "--2021-09-19 06:49:43--  https://raw.githubusercontent.com/carloslme/aws_machine_learning_foundations_udacity/main/class-4/all-coding-books.txt\n",
            "Resolving raw.githubusercontent.com (raw.githubusercontent.com)... 185.199.108.133, 185.199.109.133, 185.199.110.133, ...\n",
            "Connecting to raw.githubusercontent.com (raw.githubusercontent.com)|185.199.108.133|:443... connected.\n",
            "HTTP request sent, awaiting response... 200 OK\n",
            "Length: 257999 (252K) [text/plain]\n",
            "Saving to: ‘all-coding-books.txt.1’\n",
            "\n",
            "all-coding-books.tx 100%[===================>] 251.95K  --.-KB/s    in 0.04s   \n",
            "\n",
            "2021-09-19 06:49:44 (6.18 MB/s) - ‘all-coding-books.txt.1’ saved [257999/257999]\n",
            "\n"
          ]
        }
      ]
    },
    {
      "cell_type": "code",
      "metadata": {
        "id": "vBnx7CfU8Rg5"
      },
      "source": [
        "with open('/content/books-published-last-two-years.txt') as f:\n",
        "    recent_books = f.read().split('\\n')\n",
        "    \n",
        "with open('/content/all-coding-books.txt') as f:\n",
        "    coding_books = f.read().split('\\n')"
      ],
      "execution_count": 8,
      "outputs": []
    },
    {
      "cell_type": "code",
      "metadata": {
        "id": "Ziocb5Qq8Rg6",
        "outputId": "0354fa93-4b1a-4a01-a655-e2c09ba87f0f",
        "colab": {
          "base_uri": "https://localhost:8080/"
        }
      },
      "source": [
        "start = time.time()\n",
        "recent_coding_books = []\n",
        "\n",
        "for book in recent_books:\n",
        "    if book in coding_books:\n",
        "        recent_coding_books.append(book)\n",
        "\n",
        "print(len(recent_coding_books))\n",
        "print('Duration: {} seconds'.format(time.time() - start))"
      ],
      "execution_count": 9,
      "outputs": [
        {
          "output_type": "stream",
          "name": "stdout",
          "text": [
            "96\n",
            "Duration: 17.628474235534668 seconds\n"
          ]
        }
      ]
    },
    {
      "cell_type": "markdown",
      "metadata": {
        "id": "WFXlhLeM8Rg6"
      },
      "source": [
        "### Tip #1: Use vector operations over loops when possible\n",
        "\n",
        "Use numpy's `intersect1d` method to get the intersection of the `recent_books` and `coding_books` arrays."
      ]
    },
    {
      "cell_type": "code",
      "metadata": {
        "id": "kM3ZT4G18Rg7",
        "outputId": "4ec4c43a-fe05-452b-82e8-6587eb7027d8",
        "colab": {
          "base_uri": "https://localhost:8080/"
        }
      },
      "source": [
        "start = time.time()\n",
        "recent_coding_books =  np.intersect1d(recent_books, coding_books)\n",
        "print(len(recent_coding_books))\n",
        "print('Duration: {} seconds'.format(time.time() - start))"
      ],
      "execution_count": 10,
      "outputs": [
        {
          "output_type": "stream",
          "name": "stdout",
          "text": [
            "96\n",
            "Duration: 0.04592585563659668 seconds\n"
          ]
        }
      ]
    },
    {
      "cell_type": "markdown",
      "metadata": {
        "id": "ml-wGZ4p8Rg7"
      },
      "source": [
        "### Tip #2: Know your data structures and which methods are faster\n",
        "Use the set's `intersection` method to get the common elements in `recent_books` and `coding_books`."
      ]
    },
    {
      "cell_type": "code",
      "metadata": {
        "id": "TI8u6MrX8Rg8"
      },
      "source": [
        "start = time.time()\n",
        "recent_coding_books =  # TODO: compute intersection of lists\n",
        "print(len(recent_coding_books))\n",
        "print('Duration: {} seconds'.format(time.time() - start))"
      ],
      "execution_count": null,
      "outputs": []
    },
    {
      "cell_type": "code",
      "metadata": {
        "id": "ZldzaxDZ8Rg8"
      },
      "source": [
        ""
      ],
      "execution_count": null,
      "outputs": []
    }
  ]
}