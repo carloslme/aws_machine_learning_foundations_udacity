{
  "nbformat": 4,
  "nbformat_minor": 0,
  "metadata": {
    "kernelspec": {
      "display_name": "Python 3",
      "language": "python",
      "name": "python3"
    },
    "language_info": {
      "codemirror_mode": {
        "name": "ipython",
        "version": 3
      },
      "file_extension": ".py",
      "mimetype": "text/x-python",
      "name": "python",
      "nbconvert_exporter": "python",
      "pygments_lexer": "ipython3",
      "version": "3.6.3"
    },
    "colab": {
      "name": "optimizing-code-holiday-gifts.ipynb",
      "provenance": [],
      "include_colab_link": true
    }
  },
  "cells": [
    {
      "cell_type": "markdown",
      "metadata": {
        "id": "view-in-github",
        "colab_type": "text"
      },
      "source": [
        "<a href=\"https://colab.research.google.com/github/carloslme/aws_machine_learning_foundations_udacity/blob/main/class-4/optimizing_code_holiday_gifts.ipynb\" target=\"_parent\"><img src=\"https://colab.research.google.com/assets/colab-badge.svg\" alt=\"Open In Colab\"/></a>"
      ]
    },
    {
      "cell_type": "markdown",
      "metadata": {
        "id": "CaUq_imLBe9c"
      },
      "source": [
        "# Optimizing Code: Holiday Gifts\n",
        "In the last example, you learned that using vectorized operations and more efficient data structures can optimize your code. Let's use these tips for one more example.\n",
        "\n",
        "Say your online gift store has one million users that each listed a gift on a wish list. You have the prices for each of these gifts stored in `gift_costs.txt`. For the holidays, you're going to give each customer their wish list gift for free if it is under 25 dollars. Now, you want to calculate the total cost of all gifts under 25 dollars to see how much you'd spend on free gifts. Here's one way you could've done it."
      ]
    },
    {
      "cell_type": "code",
      "metadata": {
        "id": "gygOtUQUBe9h"
      },
      "source": [
        "import time\n",
        "import numpy as np"
      ],
      "execution_count": 23,
      "outputs": []
    },
    {
      "cell_type": "code",
      "metadata": {
        "colab": {
          "base_uri": "https://localhost:8080/"
        },
        "id": "gqlETYv4DarK",
        "outputId": "e36047cd-1987-42e5-8a99-bbf42c67db4f"
      },
      "source": [
        "!git clone https://github.com/carloslme/aws_machine_learning_foundations_udacity.git"
      ],
      "execution_count": 20,
      "outputs": [
        {
          "output_type": "stream",
          "name": "stdout",
          "text": [
            "Cloning into 'aws_machine_learning_foundations_udacity'...\n",
            "remote: Enumerating objects: 93, done.\u001b[K\n",
            "remote: Counting objects: 100% (93/93), done.\u001b[K\n",
            "remote: Compressing objects: 100% (92/92), done.\u001b[K\n",
            "remote: Total 93 (delta 46), reused 0 (delta 0), pack-reused 0\u001b[K\n",
            "Unpacking objects: 100% (93/93), done.\n"
          ]
        }
      ]
    },
    {
      "cell_type": "code",
      "metadata": {
        "colab": {
          "base_uri": "https://localhost:8080/"
        },
        "id": "fWMxHgRWD-7S",
        "outputId": "278e4b97-8f53-4e8d-b167-635de13a4ee3"
      },
      "source": [
        "!unzip \"/content/aws_machine_learning_foundations_udacity/class-4/gift-costs.zip\""
      ],
      "execution_count": 21,
      "outputs": [
        {
          "output_type": "stream",
          "name": "stdout",
          "text": [
            "Archive:  /content/aws_machine_learning_foundations_udacity/class-4/gift-costs.zip\n",
            "  inflating: gift-costs.txt          \n"
          ]
        }
      ]
    },
    {
      "cell_type": "code",
      "metadata": {
        "id": "vnNQjutpBe9j"
      },
      "source": [
        "with open('/content/gift-costs.txt') as f:\n",
        "    gift_costs = f.read().split('\\n')\n",
        "    \n",
        "gift_costs = np.array(gift_costs).astype(int)  # convert string to int"
      ],
      "execution_count": 24,
      "outputs": []
    },
    {
      "cell_type": "code",
      "metadata": {
        "id": "AcQTZFINBe9k",
        "colab": {
          "base_uri": "https://localhost:8080/"
        },
        "outputId": "b2d0ab6a-e457-4e9b-caa1-f7c0a42c5d29"
      },
      "source": [
        "start = time.time()\n",
        "\n",
        "total_price = 0\n",
        "for cost in gift_costs:\n",
        "    if cost < 25:\n",
        "        total_price += cost * 1.08  # add cost after tax\n",
        "\n",
        "print(total_price)\n",
        "print('Duration: {} seconds'.format(time.time() - start))"
      ],
      "execution_count": 25,
      "outputs": [
        {
          "output_type": "stream",
          "name": "stdout",
          "text": [
            "32765421.23999867\n",
            "Duration: 9.4237961769104 seconds\n"
          ]
        }
      ]
    },
    {
      "cell_type": "markdown",
      "metadata": {
        "id": "3MsG-MU4Be9k"
      },
      "source": [
        "Here you iterate through each cost in the list, and check if it's less than 25. If so, you add the cost to the total price after tax. This works, but there is a much faster way to do this. Can you refactor this to run under half a second?"
      ]
    },
    {
      "cell_type": "markdown",
      "metadata": {
        "id": "woQ6Ob8SBe9l"
      },
      "source": [
        "## Refactor Code\n",
        "**Hint:** Using numpy makes it very easy to select all the elements in an array that meet a certain condition, and then perform operations on them together all at once. You can them find the sum of what those values end up being."
      ]
    },
    {
      "cell_type": "code",
      "metadata": {
        "id": "XTQZppImJG16",
        "outputId": "2c30744d-b2a6-490a-9bcf-7af40b962d1a",
        "colab": {
          "base_uri": "https://localhost:8080/"
        }
      },
      "source": [
        "(gift_costs[gift_costs<25]).sum() * 1.08"
      ],
      "execution_count": 32,
      "outputs": [
        {
          "output_type": "execute_result",
          "data": {
            "text/plain": [
              "32765421.240000002"
            ]
          },
          "metadata": {},
          "execution_count": 32
        }
      ]
    },
    {
      "cell_type": "code",
      "metadata": {
        "id": "7asSZQWGBe9l",
        "colab": {
          "base_uri": "https://localhost:8080/"
        },
        "outputId": "3cd2e58e-cacd-4f96-de55-79163eb866d4"
      },
      "source": [
        "start = time.time()\n",
        "\n",
        "total_price =  (gift_costs[gift_costs<25]).sum() * 1.08\n",
        "\n",
        "print(total_price)\n",
        "print('Duration: {} seconds'.format(time.time() - start))"
      ],
      "execution_count": 33,
      "outputs": [
        {
          "output_type": "stream",
          "name": "stdout",
          "text": [
            "32765421.240000002\n",
            "Duration: 0.0774691104888916 seconds\n"
          ]
        }
      ]
    },
    {
      "cell_type": "code",
      "metadata": {
        "id": "MLsXGkkTBe9m"
      },
      "source": [
        ""
      ],
      "execution_count": null,
      "outputs": []
    }
  ]
}