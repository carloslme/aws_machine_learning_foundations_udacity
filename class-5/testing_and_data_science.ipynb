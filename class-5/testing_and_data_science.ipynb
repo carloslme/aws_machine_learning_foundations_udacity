{
  "nbformat": 4,
  "nbformat_minor": 0,
  "metadata": {
    "colab": {
      "name": "testing-and-data-science.ipynb",
      "provenance": [],
      "authorship_tag": "ABX9TyOVQIHQNmkStiPqCcfHflzb",
      "include_colab_link": true
    },
    "kernelspec": {
      "name": "python3",
      "display_name": "Python 3"
    },
    "language_info": {
      "name": "python"
    }
  },
  "cells": [
    {
      "cell_type": "markdown",
      "metadata": {
        "id": "view-in-github",
        "colab_type": "text"
      },
      "source": [
        "<a href=\"https://colab.research.google.com/github/carloslme/aws_machine_learning_foundations_udacity/blob/main/class-5/testing_and_data_science.ipynb\" target=\"_parent\"><img src=\"https://colab.research.google.com/assets/colab-badge.svg\" alt=\"Open In Colab\"/></a>"
      ]
    },
    {
      "cell_type": "markdown",
      "metadata": {
        "id": "DXEhF9rA0h8j"
      },
      "source": [
        "# Unit Tests\n",
        "Test that covers a small unit of code, usually a single function independently of the rest of the program"
      ]
    },
    {
      "cell_type": "code",
      "metadata": {
        "id": "UA8h8w9h0Od_"
      },
      "source": [
        ""
      ],
      "execution_count": null,
      "outputs": []
    }
  ]
}