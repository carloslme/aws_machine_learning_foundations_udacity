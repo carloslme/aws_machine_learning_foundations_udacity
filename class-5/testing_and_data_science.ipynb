{
  "nbformat": 4,
  "nbformat_minor": 0,
  "metadata": {
    "colab": {
      "name": "testing-and-data-science.ipynb",
      "provenance": [],
      "authorship_tag": "ABX9TyMRWEd6SjlpAppanAtIA2KR",
      "include_colab_link": true
    },
    "kernelspec": {
      "name": "python3",
      "display_name": "Python 3"
    },
    "language_info": {
      "name": "python"
    }
  },
  "cells": [
    {
      "cell_type": "markdown",
      "metadata": {
        "id": "view-in-github",
        "colab_type": "text"
      },
      "source": [
        "<a href=\"https://colab.research.google.com/github/carloslme/aws_machine_learning_foundations_udacity/blob/main/class-5/testing_and_data_science.ipynb\" target=\"_parent\"><img src=\"https://colab.research.google.com/assets/colab-badge.svg\" alt=\"Open In Colab\"/></a>"
      ]
    },
    {
      "cell_type": "markdown",
      "metadata": {
        "id": "DXEhF9rA0h8j"
      },
      "source": [
        "# Unit Tests\n",
        "Test that covers a small unit of code, usually a single function independently of the rest of the program.\n",
        "\n",
        "We want to test our functions in a way that is repeatable and automated. Ideally, we'd run a test program that runs all our unit tests and cleanly lets us know which ones failed and which ones succeeded. Fortunately, there are great tools available in Python that we can use to create effective unit tests!\n",
        "\n",
        "**Unit test advantages and disadvantages**\n",
        "\n",
        "The advantage of unit tests is that they are isolated from the rest of your program, and thus, no dependencies are involved. They don't require access to databases, APIs, or other external sources of information. However, passing unit tests isn’t always enough to prove that our program is working successfully. To show that all the parts of our program work with each other properly, communicating and transferring data between them correctly, we use integration tests. In this lesson, we'll focus on unit tests; however, when you start building larger programs, you will want to use integration tests as well.\n",
        "\n",
        "To learn more about integration testing and how integration tests relate to unit tests, see [Integration Testing](https://www.fullstackpython.com/integration-testing.html). That article contains other very useful links as well."
      ]
    },
    {
      "cell_type": "markdown",
      "metadata": {
        "id": "2hWV3ou72fxI"
      },
      "source": [
        " # Install dependencies"
      ]
    },
    {
      "cell_type": "code",
      "metadata": {
        "id": "UA8h8w9h0Od_",
        "colab": {
          "base_uri": "https://localhost:8080/"
        },
        "outputId": "cc9738fe-be41-4c2c-9907-85c7a848faea"
      },
      "source": [
        "!pip install pytest"
      ],
      "execution_count": 1,
      "outputs": [
        {
          "output_type": "stream",
          "name": "stdout",
          "text": [
            "Requirement already satisfied: pytest in /usr/local/lib/python3.7/dist-packages (3.6.4)\n",
            "Requirement already satisfied: py>=1.5.0 in /usr/local/lib/python3.7/dist-packages (from pytest) (1.10.0)\n",
            "Requirement already satisfied: setuptools in /usr/local/lib/python3.7/dist-packages (from pytest) (57.4.0)\n",
            "Requirement already satisfied: attrs>=17.4.0 in /usr/local/lib/python3.7/dist-packages (from pytest) (21.2.0)\n",
            "Requirement already satisfied: six>=1.10.0 in /usr/local/lib/python3.7/dist-packages (from pytest) (1.15.0)\n",
            "Requirement already satisfied: more-itertools>=4.0.0 in /usr/local/lib/python3.7/dist-packages (from pytest) (8.9.0)\n",
            "Requirement already satisfied: atomicwrites>=1.0 in /usr/local/lib/python3.7/dist-packages (from pytest) (1.4.0)\n",
            "Requirement already satisfied: pluggy<0.8,>=0.5 in /usr/local/lib/python3.7/dist-packages (from pytest) (0.7.1)\n"
          ]
        }
      ]
    },
    {
      "cell_type": "code",
      "metadata": {
        "colab": {
          "base_uri": "https://localhost:8080/"
        },
        "id": "OTZ9K1JG2kNA",
        "outputId": "d9021ac7-f1b4-4ab0-add2-4a3ef8e13a0d"
      },
      "source": [
        "!git clone https://github.com/carloslme/aws_machine_learning_foundations_udacity.git"
      ],
      "execution_count": 2,
      "outputs": [
        {
          "output_type": "stream",
          "name": "stdout",
          "text": [
            "Cloning into 'aws_machine_learning_foundations_udacity'...\n",
            "remote: Enumerating objects: 156, done.\u001b[K\n",
            "remote: Counting objects: 100% (156/156), done.\u001b[K\n",
            "remote: Compressing objects: 100% (155/155), done.\u001b[K\n",
            "remote: Total 156 (delta 75), reused 0 (delta 0), pack-reused 0\u001b[K\n",
            "Receiving objects: 100% (156/156), 9.79 MiB | 15.62 MiB/s, done.\n",
            "Resolving deltas: 100% (75/75), done.\n"
          ]
        }
      ]
    },
    {
      "cell_type": "markdown",
      "metadata": {
        "id": "H1EjuMMu5A54"
      },
      "source": [
        "# Execute tests"
      ]
    },
    {
      "cell_type": "code",
      "metadata": {
        "colab": {
          "base_uri": "https://localhost:8080/"
        },
        "id": "uTdJIZp_40mz",
        "outputId": "d00c2fe0-de68-4b66-ba4e-daca244dde09"
      },
      "source": [
        "%cd \"aws_machine_learning_foundations_udacity/class-5\""
      ],
      "execution_count": 3,
      "outputs": [
        {
          "output_type": "stream",
          "name": "stdout",
          "text": [
            "/content/aws_machine_learning_foundations_udacity/class-5\n"
          ]
        }
      ]
    },
    {
      "cell_type": "code",
      "metadata": {
        "id": "XPJJx2MH5GP8",
        "colab": {
          "base_uri": "https://localhost:8080/"
        },
        "outputId": "1fbe86ad-dcc8-4852-ea3d-7c551ce501f5"
      },
      "source": [
        "!ls"
      ],
      "execution_count": 4,
      "outputs": [
        {
          "output_type": "stream",
          "name": "stdout",
          "text": [
            "nearest.py  testing_and_data_science.ipynb  test_nearest.py  wrong_nearest.py\n"
          ]
        }
      ]
    },
    {
      "cell_type": "code",
      "metadata": {
        "id": "FUwp3AoM5HLB",
        "colab": {
          "base_uri": "https://localhost:8080/"
        },
        "outputId": "4fe8db31-4721-4b17-c74f-6a661ca7e5cb"
      },
      "source": [
        "!pytest"
      ],
      "execution_count": 5,
      "outputs": [
        {
          "output_type": "stream",
          "name": "stdout",
          "text": [
            "\u001b[1m============================= test session starts ==============================\u001b[0m\n",
            "platform linux2 -- Python 2.7.17, pytest-3.6.4, py-1.8.0, pluggy-0.7.1\n",
            "rootdir: /content/aws_machine_learning_foundations_udacity/class-5, inifile:\n",
            "\u001b[1m\rcollecting 0 items                                                             \u001b[0m\u001b[1m\rcollecting 4 items                                                             \u001b[0m\u001b[1m\rcollected 4 items                                                              \u001b[0m\n",
            "\n",
            "test_nearest.py ....\u001b[36m                                                     [100%]\u001b[0m\n",
            "\n",
            "\u001b[32m\u001b[1m=========================== 4 passed in 0.02 seconds ===========================\u001b[0m\n"
          ]
        }
      ]
    },
    {
      "cell_type": "markdown",
      "metadata": {
        "id": "JVCJ0Bde9XKg"
      },
      "source": [
        "Modify `nearest.py` script to intentinally get an error."
      ]
    },
    {
      "cell_type": "code",
      "metadata": {
        "id": "X1eZSENZ5lup"
      },
      "source": [
        "%pycat nearest.py\n",
        "!rm nearest.py"
      ],
      "execution_count": 8,
      "outputs": []
    },
    {
      "cell_type": "code",
      "metadata": {
        "id": "J2nPba1S89ET",
        "outputId": "076ec893-fd6e-43ce-8aa8-5050e7f03d90",
        "colab": {
          "base_uri": "https://localhost:8080/"
        }
      },
      "source": [
        "%%writefile nearest.py\n",
        "\n",
        "def nearest_square(num):\n",
        "    \"\"\"Return the nearest perfect square that\n",
        "    is less than or equal to num.\n",
        "\n",
        "    Args:\n",
        "        num (int): number integer\n",
        "    \"\"\"\n",
        "    root = 0\n",
        "    while (root + 1) ** 2 < num:\n",
        "        root += 1\n",
        "    return root ** 2"
      ],
      "execution_count": 9,
      "outputs": [
        {
          "output_type": "stream",
          "name": "stdout",
          "text": [
            "Writing nearest.py\n"
          ]
        }
      ]
    },
    {
      "cell_type": "markdown",
      "metadata": {
        "id": "f-jJlT_D9equ"
      },
      "source": [
        "Execute again the pytest"
      ]
    },
    {
      "cell_type": "code",
      "metadata": {
        "id": "GMzMVBer9Vdx",
        "outputId": "885a75a0-d37b-428a-d087-fd9c892c1919",
        "colab": {
          "base_uri": "https://localhost:8080/"
        }
      },
      "source": [
        "!pytest"
      ],
      "execution_count": 10,
      "outputs": [
        {
          "output_type": "stream",
          "name": "stdout",
          "text": [
            "\u001b[1m============================= test session starts ==============================\u001b[0m\n",
            "platform linux2 -- Python 2.7.17, pytest-3.6.4, py-1.8.0, pluggy-0.7.1\n",
            "rootdir: /content/aws_machine_learning_foundations_udacity/class-5, inifile:\n",
            "\u001b[1m\rcollecting 0 items                                                             \u001b[0m\u001b[1m\rcollecting 4 items                                                             \u001b[0m\u001b[1m\rcollected 4 items                                                              \u001b[0m\n",
            "\n",
            "test_nearest.py ..F.\u001b[36m                                                     [100%]\u001b[0m\n",
            "\n",
            "=================================== FAILURES ===================================\n",
            "\u001b[1m\u001b[31m____________________________ test_nearest_square_9 _____________________________\u001b[0m\n",
            "\n",
            "\u001b[1m    def test_nearest_square_9():\u001b[0m\n",
            "\u001b[1m>       assert(nearest_square(9) == 9)\u001b[0m\n",
            "\u001b[1m\u001b[31mE       assert 4 == 9\u001b[0m\n",
            "\u001b[1m\u001b[31mE        +  where 4 = nearest_square(9)\u001b[0m\n",
            "\n",
            "\u001b[1m\u001b[31mtest_nearest.py\u001b[0m:10: AssertionError\n",
            "\u001b[1m\u001b[31m====================== 1 failed, 3 passed in 0.03 seconds ======================\u001b[0m\n"
          ]
        }
      ]
    },
    {
      "cell_type": "code",
      "metadata": {
        "id": "phkzUQgj9hD0"
      },
      "source": [
        ""
      ],
      "execution_count": null,
      "outputs": []
    }
  ]
}