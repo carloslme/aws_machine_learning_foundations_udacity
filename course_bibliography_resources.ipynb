{
  "nbformat": 4,
  "nbformat_minor": 0,
  "metadata": {
    "colab": {
      "name": "course_bibliography_resources.ipynb",
      "provenance": [],
      "include_colab_link": true
    },
    "kernelspec": {
      "name": "python3",
      "display_name": "Python 3"
    },
    "language_info": {
      "name": "python"
    }
  },
  "cells": [
    {
      "cell_type": "markdown",
      "metadata": {
        "id": "view-in-github",
        "colab_type": "text"
      },
      "source": [
        "<a href=\"https://colab.research.google.com/github/carloslme/aws_machine_learning_foundations_udacity/blob/main/course_bibliography_resources.ipynb\" target=\"_parent\"><img src=\"https://colab.research.google.com/assets/colab-badge.svg\" alt=\"Open In Colab\"/></a>"
      ]
    },
    {
      "cell_type": "markdown",
      "metadata": {
        "id": "TtAv9zcV6Q9c"
      },
      "source": [
        "# Bibliography Resources\n",
        "\n"
      ]
    },
    {
      "cell_type": "markdown",
      "metadata": {
        "id": "Ux40YAMn6VdC"
      },
      "source": [
        "## Lesson 2\n"
      ]
    },
    {
      "cell_type": "markdown",
      "metadata": {
        "id": "Lqir9Man8PLb"
      },
      "source": [
        "### 2. What is Machine Learning?\n",
        "Want to learn more about how software and application come together? Reading through this entry about the [software development](https://en.wikipedia.org/wiki/Software_development) process from Wikipedia can help."
      ]
    },
    {
      "cell_type": "markdown",
      "metadata": {
        "id": "ccCn0-378w6j"
      },
      "source": [
        "### 6. Define the problem\n",
        "* The [AWS Machine Learning Blog](https://aws.amazon.com/blogs/machine-learning/) is a great resource for learning more about projects in machine learning.\n",
        "* You can use Amazon SageMaker [to calculate new stats in Major League Baseball](https://aws.amazon.com/blogs/machine-learning/calculating-new-stats-in-major-league-baseball-with-amazon-sagemaker/).\n",
        "* You can also find an article on [Flagging suspicious healthcare claims with Amazon SageMaker](https://aws.amazon.com/blogs/machine-learning/flagging-suspicious-healthcare-claims-with-amazon-sagemaker/) on the AWS Machine Learning blog.\n",
        "* What [kinds of questions and problems](https://docs.aws.amazon.com/machine-learning/latest/dg/machine-learning-problems-in-amazon-machine-learning.html) are good for machine learning?"
      ]
    },
    {
      "cell_type": "markdown",
      "metadata": {
        "id": "BmioA4J29aVe"
      },
      "source": [
        "### 8. Build a dataset\n",
        "* In machine learning, you use several statistical-based tools to better understand your data. The `sklearn` library has many examples and tutorials, such as this example demonstrating [outlier detection on a real dataset](https://sklearn.org/auto_examples/applications/plot_outlier_detection_housing.html#sphx-glr-auto-examples-applications-plot-outlier-detection-housing-py)."
      ]
    },
    {
      "cell_type": "markdown",
      "metadata": {
        "id": "JaymYZJf9ybU"
      },
      "source": [
        "### 10. Model Training\n",
        "* The Wikipedia entry on the [bias-variance](https://en.wikipedia.org/wiki/Bias%E2%80%93variance_tradeoff) trade-off can help you understand more about this common machine learning concept.\n",
        "* In this [AWS Machine Learning Blog](https://aws.amazon.com/blogs/machine-learning/) post, you can see how to train a machine-learning algorithm to predict the impact of weather on air quality using Amazon SageMaker."
      ]
    },
    {
      "cell_type": "markdown",
      "metadata": {
        "id": "Q4y7r3yc-fxe"
      },
      "source": [
        "### 12. Model evaluation\n",
        "The tools used for model evaluation are often tailored to a specific use case, so it's difficult to generalize rules for choosing them. The following articles provide use cases and examples of specific metrics in use.\n",
        "\n",
        "* [This healthcare-based example](https://aws.amazon.com/blogs/machine-learning/create-a-model-for-predicting-orthopedic-pathology-using-amazon-sagemaker/), which automates the prediction of spinal pathology conditions, demonstrates how important it is to avoid false positive and false negative predictions using the tree-based `xgboost` model.\n",
        "* The popular [open-source library](https://scikit-learn.org/stable/modules/model_evaluation.html) `sklearn` provides information about common metrics and how to use them.\n",
        "* [This entry from the AWS Machine Learning blog](https://aws.amazon.com/blogs/machine-learning/making-accurate-energy-consumption-predictions-with-amazon-forecast/) demonstrates the importance of choosing the correct model evaluation metrics for making accurate energy consumption estimates using Amazon Forecast."
      ]
    },
    {
      "cell_type": "markdown",
      "metadata": {
        "id": "JZ0a0zqW--pc"
      },
      "source": [
        "### 17. Example One: House Price Prediction\n",
        "The [Machine Learning Mastery](https://machinelearningmastery.com/) blog is a fantastic resource for learning more about machine learning. The following example blog posts dive deeper into training regression-based machine learning models.\n",
        "\n",
        "* [How to Develop Ridge Regression Models in Python](https://machinelearningmastery.com/ridge-regression-with-python/) offers another approach to solving the problem in the example from this lesson.\n",
        "* Regression is a popular machine learning task, and you can use [several different model evaluation metrics](https://machinelearningmastery.com/regression-metrics-for-machine-learning/) with it."
      ]
    },
    {
      "cell_type": "markdown",
      "metadata": {
        "id": "9kKq_8Fh_U7U"
      },
      "source": [
        "### 19. Example Two: Book Genre Exploration\n",
        "The [Machine Learning Mastery](https://machinelearningmastery.com/) blog is a is a great resource for finding examples of machine learning projects.\n",
        "\n",
        "* The [How to Develop a Deep Learning Bag-of-Words Model for Sentiment Analysis (Text Classification)](https://machinelearningmastery.com/deep-learning-bag-of-words-model-sentiment-analysis/) blog post provides an example using a bag of words–based approach pair with a deep learning model."
      ]
    },
    {
      "cell_type": "markdown",
      "metadata": {
        "id": "Wq0MuzQA8L97"
      },
      "source": [
        "### 21. Example Three: Spill Detection from Video\n",
        "* The [AWS Machine Learning Blog](https://aws.amazon.com/blogs/machine-learning/) is a great resource for finding more examples of machine learning projects.\n",
        "* In the [Protecting people from hazardous areas through virtual boundaries with Computer Vision](https://aws.amazon.com/blogs/machine-learning/protecting-people-through-virtual-boundaries-computer-vision/) blog post, you can see a more detailed example of the deep learning process described in this lesson"
      ]
    },
    {
      "cell_type": "markdown",
      "metadata": {
        "id": "TkFoiUik7vQF"
      },
      "source": [
        "### Glosary\n",
        "* Bag of words: A technique used to extract features from the text. It counts how many times a word appears in a document (corpus), and then transforms that information into a dataset.\n",
        "\n",
        "* A categorical label has a discrete set of possible values, such as \"is a cat\" and \"is not a cat.\"\n",
        "\n",
        "* Clustering. Unsupervised learning task that helps to determine if there are any naturally occurring groupings in the data.\n",
        "\n",
        "* CNN: Convolutional Neural Networks (CNN) represent nested filters over grid-organized data. They are by far the most commonly used type of model when processing images.\n",
        "\n",
        "* A continuous (regression) label does not have a discrete set of possible values, which means possibly an unlimited number of possibilities.\n",
        "\n",
        "* Data vectorization: A process that converts non-numeric data into a numerical format so that it can be used by a machine learning model.\n",
        "\n",
        "* Discrete: A term taken from statistics referring to an outcome taking on only a finite number of values (such as days of the week).\n",
        "\n",
        "* FFNN: The most straightforward way of structuring a neural network, the Feed Forward Neural Network (FFNN) structures neurons in a series of layers, with each neuron in a layer containing weights to all neurons in the previous layer.\n",
        "\n",
        "* Hyperparameters are settings on the model which are not changed during training but can affect how quickly or how reliably the model trains, such as the number of clusters the model should identify.\n",
        "\n",
        "* Log loss is used to calculate how uncertain your model is about the predictions it is generating.\n",
        "\n",
        "* Hyperplane: A mathematical term for a surface that contains more than two planes.\n",
        "\n",
        "* Impute is a common term referring to different statistical tools which can be used to calculate missing values from your dataset.\n",
        "\n",
        "*  label refers to data that already contains the solution.\n",
        "\n",
        "* loss function is used to codify the model’s distance from this goal\n",
        "\n",
        "* Machine learning, or ML, is a modern software development technique that enables computers to solve problems by using examples of real-world data.\n",
        "\n",
        "* Model accuracy is the fraction of predictions a model gets right. Discrete: A term taken from statistics referring to an outcome taking on only a finite number of values (such as days of the week). Continuous: Floating-point values with an infinite range of possible values. The opposite of categorical or discrete values, which take on a limited number of possible values.\n",
        "\n",
        "* Model inference is when the trained model is used to generate predictions.\n",
        "\n",
        "* model is an extremely generic program, made specific by the data used to train it.\n",
        "\n",
        "* Model parameters are settings or configurations the training algorithm can update to change how the model behaves.\n",
        "\n",
        "* Model training algorithms work through an interactive process where the current model iteration is analyzed to determine what changes can be made to get closer to the goal. Those changes are made and the iteration continues until the model is evaluated to meet the goals.\n",
        "\n",
        "* Neural networks: a collection of very simple models connected together. These simple models are called neurons. The connections between these models are trainable model parameters called weights.\n",
        "\n",
        "* Outliers are data points that are significantly different from others in the same sample.\n",
        "\n",
        "* Plane: A mathematical term for a flat surface (like a piece of paper) on which two points can be joined by a straight line.\n",
        "\n",
        "* Regression: A common task in supervised machine learning.\n",
        "\n",
        "* In reinforcement learning, the algorithm figures out which actions to take in a situation to maximize a reward (in the form of a number) on the way to reaching a specific goal.\n",
        "\n",
        "* RNN/LSTM: Recurrent Neural Networks (RNN) and the related Long Short-Term Memory (LSTM) model types are structured to effectively represent for loops in traditional computing, collecting state while iterating over some object. They can be used for processing sequences of data.\n",
        "\n",
        "* Silhouette coefficient: A score from -1 to 1 describing the clusters found during modeling. A score near zero indicates overlapping clusters, and scores less than zero indicate data points assigned to incorrect clusters. A\n",
        "\n",
        "* Stop words: A list of words removed by natural language processing tools when building your dataset. There is no single universal list of stop words used by all-natural language processing tools.\n",
        "\n",
        "* In supervised learning, every training sample from the dataset has a corresponding label or output value associated with it. As a result, the algorithm learns to predict labels or output values.\n",
        "\n",
        "* Test dataset: The data withheld from the model during training, which is used to test how well your model will generalize to new data.\n",
        "\n",
        "* Training dataset: The data on which the model will be trained. Most of your data will be here.\n",
        "\n",
        "* Transformer: A more modern replacement for RNN/LSTMs, the transformer architecture enables training over larger datasets involving sequences of data.\n",
        "\n",
        "* In unlabeled data, you don't need to provide the model with any kind of label or solution while the model is being trained.\n",
        "\n",
        "* In unsupervised learning, there are no labels for the training data. A machine learning algorithm tries to learn the underlying patterns or distributions that govern the data.\n",
        "\n"
      ]
    },
    {
      "cell_type": "markdown",
      "metadata": {
        "id": "d817nlHHLg_5"
      },
      "source": [
        "## Lesson 3: Machine Learning with AWS"
      ]
    },
    {
      "cell_type": "markdown",
      "metadata": {
        "id": "Dnw7fxYiM2sY"
      },
      "source": [
        "### 1. Machine Learning with AWS\n",
        "* To learn more about AWS AI Services, see Explore [AWS AI services](https://aws.amazon.com/machine-learning/ai-services/?utm_source=Udacity&utm_medium=Webpage&utm_campaign=Udacity%20AWS%20ML%20Foundations%20Course).\n",
        "*To learn more about AWS ML Training and Certification offerings, see [Training and Certification](https://aws.amazon.com/training/?trk=ps_a134p000006vdeTAAQ&trkCampaign=GLBL-FY21-TrainCert-Combined_PaidSearch&sc_channel=PS&sc_campaign=FY21-TrainCert-Combined_PaidSearch&sc_publisher=Google&sc_category=Training%20and%20Certification&sc_country=CA&sc_geo=NAMER&sc_outcome=acq&sc_detail=aws%20training%20and%20certification&sc_content=Generic_exact&sc_matchtype=e&sc_segment=502617786875&sc_medium=TC-P%7CPS-GO%7CBrand%7CDesktop%7CAW%7CTraining%20and%20Certification%7CCombo%7CCA%7CEN%7CText%7Cxx%7CSEM%7CPMO20-00038&s_kwcid=AL!4422!3!502617786875!e!!g!!aws%20training%20and%20certification&s_kwcid=AL!4422!3!502617786875!e!!g!!aws%20training%20and%20certification&ef_id=Cj0KCQjw6-SDBhCMARIsAGbI7UjdXMChuEmUUD2-j8XnYXVklQdsT4KPqYV3lAxL3ww_fQUvs9fGmRoaAkdpEALw_wcB%3AG%3As&utm_source=Udacity&utm_medium=Webpage&utm_campaign=Udacity%20AWS%20ML%20Foundations%20Course)."
      ]
    },
    {
      "cell_type": "markdown",
      "metadata": {
        "id": "tn3Ka3Z7SXB0"
      },
      "source": [
        "### 4. Computer Vision and Its Applications\n",
        "* You can use the [AWS DeepLens Recipes](https://www.awsdeeplens.recipes/?utm_source=Udacity&utm_medium=Webpage&utm_campaign=Udacity%20AWS%20ML%20Foundations%20Course) website to find different learning paths based on your level of expertise. For example, you can choose either a student or teacher path. Additionally, you can choose between beginner, intermediate, and advanced projects which have been created and vetted by the AWS DeepLens team.\n",
        "* You can check out the [AWS machine learning blog](https://aws.amazon.com/blogs/machine-learning/?utm_source=Udacity&utm_medium=Webpage&utm_campaign=Udacity%20AWS%20ML%20Foundations%20Course) to learn about recent advancements in machine learning. Additionally, you can use the [AWS DeepLens tag](https://aws.amazon.com/blogs/machine-learning/category/artificial-intelligence/aws-deeplens/?utm_source=Udacity&utm_medium=Webpage&utm_campaign=Udacity%20AWS%20ML%20Foundations%20Course) to see projects which have been created by the AWS DeepLens team.\n",
        "* Ready to get started? Check out the [Getting started guide](https://docs.aws.amazon.com/deeplens/latest/dg/deeplens-getting-started.html?utm_source=Udacity&utm_medium=Webpage&utm_campaign=Udacity%20AWS%20ML%20Foundations%20Course) in the AWS DeepLens Developer Guide."
      ]
    },
    {
      "cell_type": "markdown",
      "metadata": {
        "id": "dwCM44TKWYKB"
      },
      "source": [
        "### 5. Computer Vision with AWS DeepLens\n",
        "* To learn more about the specifics of the AWS DeepLens device, see the [AWS DeepLens Hardware Specifications](https://docs.aws.amazon.com/deeplens/latest/dg/deeplens-hardware.html?utm_source=Udacity&utm_medium=Webpage&utm_campaign=Udacity%20AWS%20ML%20Foundations%20Course) in the AWS DeepLens Developer Guide.\n",
        "* You can buy an [AWS DeepLens device](https://www.amazon.com/dp/B07JLSHR23?ref=aws-ml-dl-smba&sc_icampaign=deeplens-buy-now-button&sc_ichannel=ha&sc_icontent=awssm-2786&sc_iplace=button&trk=ha_awssm-2786) on Amazon.com."
      ]
    },
    {
      "cell_type": "markdown",
      "metadata": {
        "id": "TqKgpEzAW0aL"
      },
      "source": [
        "### 6. A Sample Project with AWS DeepLens\n",
        "* In this blog post on the [AWS Machine Learning blog](https://aws.amazon.com/blogs/machine-learning/protecting-people-through-virtual-boundaries-computer-vision/), you learn about how computer vision–based applications can be used to protect workers in workplaces with autonomous robots. The post demonstrates you how you can create a virtual boundary using a computer and AWS DeepLens.\n",
        "* Using [Amazon Rekognition](https://aws.amazon.com/rekognition/?blog-cards.sort-by=item.additionalFields.createdDate&blog-cards.sort-order=desc&utm_source=Udacity&utm_medium=Webpage&utm_campaign=Udacity%20AWS%20ML%20Foundations%20Course) and AWS DeepLens, you can [create an application](https://aws.amazon.com/blogs/machine-learning/building-a-smart-garage-door-opener-with-aws-deeplens-and-amazon-rekognition/) that uses OCR or optical character recognition to recognize a car's license plate, and open a garage door.\n",
        "* You can use [Amazon Alexa and AWS DeepLens to create a Pictionary style game](https://www.awsdeeplens.recipes/300_intermediate/330_guess_drawing/?utm_source=Udacity&utm_medium=Webpage&utm_campaign=Udacity%20AWS%20ML%20Foundations%20Course). First, you deploy a trained model to your AWS DeepLens which can recognize sketches drawn on a whiteboard and pair it with an Alexa skill that serves as the official scorekeeper.\n",
        "\n",
        "* [Aws-Deeplens-Custom-Trash-Detector](https://video.udacity-data.com/topher/2021/May/609ab503_aws-deeplens-custom-trash-detector/aws-deeplens-custom-trash-detector.ipynb)"
      ]
    },
    {
      "cell_type": "markdown",
      "metadata": {
        "id": "BoPt6aoRulFX"
      },
      "source": [
        "### 9. Reinforcement Learning with AWS DeepRacer\n",
        "* If you are interested in more tips, workshops, classes, and other resources for improving your model, you'll find a wealth of resources on the AWS [DeepRacer Pit Stop](https://aws.amazon.com/deepracer/racing-tips/?utm_source=Udacity&utm_medium=Webpage&utm_campaign=Udacity%20AWS%20ML%20Foundations%20Course) page.\n",
        "* For detailed step-by-step instructions and troubleshooting support, see the [AWS DeepRacer Developer Documentation](https://docs.aws.amazon.com/deepracer/index.html?utm_source=Udacity&utm_medium=Webpage&utm_campaign=Udacity%20AWS%20ML%20Foundations%20Course).\n",
        "* If you're interested in reading more posts on a range of DeepRacer topics as well as staying up to date on the newest releases, check out the [AWS Discussion Forums](https://forums.aws.amazon.com/forum.jspa?forumID=318&utm_source=Udacity&utm_medium=Webpage&utm_campaign=Udacity%20AWS%20ML%20Foundations%20Course).\n",
        "* If you're interested in connecting with a thriving global community of reinforcement learning racing enthusiasts, join the [AWS DeepRacer Slack community](http://join.deepracing.io/?utm_source=Udacity&utm_medium=Webpage&utm_campaign=Udacity%20AWS%20ML%20Foundations%20Course).\n",
        "* If you're interested in tinkering with [DeepRacer's open-source device software](https://aws.amazon.com/deepracer/robotics-projects/?utm_source=Udacity&utm_medium=Webpage&utm_campaign=Udacity%20AWS%20ML%20Foundations%20Course) and collaborating with robotics innovators, check out our [AWS DeepRacer GitHub Organization](https://github.com/aws-deepracer?utm_source=Udacity&utm_medium=Webpage&utm_campaign=Udacity%20AWS%20ML%20Foundations%20Course)."
      ]
    },
    {
      "cell_type": "markdown",
      "metadata": {
        "id": "xfP3KLSmHdhj"
      },
      "source": [
        "### 14. Introduction to Generative AI\n",
        "* You can learn more about transformers and how AWS DeepComposer uses transformers in [AWS DeepComposer learning capsules](https://console.aws.amazon.com/deepcomposer/home?region=us-east-1&utm_source=Udacity&utm_medium=Webpage&utm_campaign=Udacity%20AWS%20ML%20Foundations%20Course#learningCapsules)."
      ]
    },
    {
      "cell_type": "markdown",
      "metadata": {
        "id": "1Wp-g_zZGOK2"
      },
      "source": [
        "### 16. GANs with AWS DeepComposer\n",
        "\n",
        "**New Terms**\n",
        "* Generator: A neural network that learns to create new data resembling the source data on which it was trained.\n",
        "* Discriminator: A neural network trained to differentiate between real and synthetic data.\n",
        "* Generator loss: Measures how far the output data deviates from the real data present in the training dataset.\n",
        "Discriminator loss: Evaluates how well the discriminator differentiates between real and fake data.\n",
        "\n",
        "**Supporting Materials**\n",
        "* [Input Twinkle Twinkle Input](https://video.udacity-data.com/topher/2021/April/607ddd51_input-twinkle-twinkle-input/input-twinkle-twinkle-input.mp3)\n",
        "* [Output Twinkle Twinkle Rock](https://video.udacity-data.com/topher/2021/April/607ddd92_output-twinkle-twinkle-rock/output-twinkle-twinkle-rock.mp3)"
      ]
    },
    {
      "cell_type": "markdown",
      "metadata": {
        "id": "5F4sio82Jhjm"
      },
      "source": [
        "# Lesson 4: Software Engineering Practices"
      ]
    },
    {
      "cell_type": "markdown",
      "metadata": {
        "id": "C0waqr9GJfwP"
      },
      "source": [
        "### 4. Writing Clean Code\n",
        "Writing clean code: Meaningful names\n",
        "* Be descriptive and imply type\n",
        "* Be consistent but clearly differentiate.\n",
        "* Avoid abbreviations and single letters.\n",
        "* Long names aren't the same as descriptive names.\n",
        "\n",
        "\n",
        "Writing clean code: Nice whitespace\n",
        "* Organize your code with consistent indentation\n",
        "* Separate sections with blank lines \n",
        "* Try to limit your lines to around 79 characters\n",
        "\n",
        "[PEP 8 guidelines for code layout](https://www.python.org/dev/peps/pep-0008/?#code-lay-out)\n",
        "\n",
        "### 23. Git\n",
        "* [A successful Git branching model](https://nvie.com/posts/a-successful-git-branching-model/)\n",
        "* [About merge conflicts](https://docs.github.com/en/github/collaborating-with-pull-requests/addressing-merge-conflicts/about-merge-conflicts)\n",
        "\n",
        "### 23. Model versioning\n",
        "* [How to version control your production machine learning models](https://algorithmia.com/blog/how-to-version-control-your-production-machine-learning-models)\n",
        "* [Version Control ML Model](https://towardsdatascience.com/version-control-ml-model-4adb2db5f87c)"
      ]
    },
    {
      "cell_type": "markdown",
      "metadata": {
        "id": "yD_r3LxAf_aP"
      },
      "source": [
        "# Lesson 5: Software Engineering Practices - Part 2"
      ]
    },
    {
      "cell_type": "markdown",
      "metadata": {
        "id": "a4VF-MaVhX5h"
      },
      "source": [
        "## Testing and Data Science\n",
        "\n",
        "* Problems that could occur in data science aren’t always easily detectable; you might have values being encoded incorrectly, features being used inappropriately, or unexpected data breaking assumptions.\n",
        "* To catch these errors, you have to check for the quality and accuracy of your analysis in addition to the quality of your code. Proper testing is necessary to avoid unexpected surprises and have confidence in your results.\n",
        "* Test-driven development (TDD): A development process in which you write tests for tasks before you even write the code to implement those tasks.\n",
        "* Unit test: A type of test that covers a “unit” of code—usually a single function—independently from the rest of the program.\n",
        "\n",
        "**Resources**\n",
        "\n",
        "* Four Ways Data Science Goes Wrong and How Test-Driven Data Analysis Can Help: [Blog Post](https://www.predictiveanalyticsworld.com/machinelearningtimes/four-ways-data-science-goes-wrong-and-how-test-driven-data-analysis-can-help/6947/)\n",
        "* Ned Batchelder: Getting Started Testing: [Slide Deck](https://speakerdeck.com/pycon2014/getting-started-testing-by-ned-batchelder) and [Presentation Video](https://www.youtube.com/watch?v=FxSsnHeWQBY)"
      ]
    },
    {
      "cell_type": "markdown",
      "metadata": {
        "id": "oIRUSOLJjCyg"
      },
      "source": [
        "## Test-driven development and data science\n",
        "* Test-driven development: Writing tests before you write the code that’s being tested. Your test fails at first, and you know you’ve finished implementing a task when the test passes.\n",
        "* Tests can check for different scenarios and edge cases before you even start to write your function. When start implementing your function, you can run the test to get immediate feedback on whether it works or not as you tweak your function.\n",
        "* When refactoring or adding to your code, tests help you rest assured that the rest of your code didn't break while you were making those changes. Tests also helps ensure that your function behavior is repeatable, regardless of external parameters such as hardware and time.\n",
        "\n",
        "\n",
        "Test-driven development for data science is relatively new and is experiencing a lot of experimentation and breakthroughs. You can learn more about it by exploring the following resources.\n",
        "\n",
        "* [Data Science TDD](https://www.linkedin.com/pulse/data-science-test-driven-development-sam-savage/)\n",
        "* [TDD for Data Science](https://tanzu.vmware.com/content/pivotal-engineering-journal)\n",
        "* [TDD is Essential for Good Data Science Here's Why](https://medium.com/uk-hydrographic-office/test-driven-development-is-essential-for-good-data-science-heres-why-db7975a03a44)\n",
        "* Testing Your Code (general python TDD) [texto del vínculo](https://docs.python-guide.org/writing/tests/)"
      ]
    },
    {
      "cell_type": "code",
      "metadata": {
        "id": "ulUOnzKLLvd4"
      },
      "source": [
        " "
      ],
      "execution_count": null,
      "outputs": []
    }
  ]
}