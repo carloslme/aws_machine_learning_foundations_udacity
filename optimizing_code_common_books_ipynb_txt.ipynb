{
  "nbformat": 4,
  "nbformat_minor": 0,
  "metadata": {
    "kernelspec": {
      "display_name": "Python 3",
      "language": "python",
      "name": "python3"
    },
    "language_info": {
      "codemirror_mode": {
        "name": "ipython",
        "version": 3
      },
      "file_extension": ".py",
      "mimetype": "text/x-python",
      "name": "python",
      "nbconvert_exporter": "python",
      "pygments_lexer": "ipython3",
      "version": "3.6.3"
    },
    "colab": {
      "name": "optimizing-code-common-books.ipynb.txt",
      "provenance": [],
      "include_colab_link": true
    }
  },
  "cells": [
    {
      "cell_type": "markdown",
      "metadata": {
        "id": "view-in-github",
        "colab_type": "text"
      },
      "source": [
        "<a href=\"https://colab.research.google.com/github/carloslme/aws_machine_learning_foundations_udacity/blob/main/optimizing_code_common_books_ipynb_txt.ipynb\" target=\"_parent\"><img src=\"https://colab.research.google.com/assets/colab-badge.svg\" alt=\"Open In Colab\"/></a>"
      ]
    },
    {
      "cell_type": "markdown",
      "metadata": {
        "id": "rIOg8LNj8Rg1"
      },
      "source": [
        "# Optimizing Code: Common Books\n",
        "Here's the code your coworker wrote to find the common book ids in `books_published_last_two_years.txt` and `all_coding_books.txt` to obtain a list of recent coding books."
      ]
    },
    {
      "cell_type": "code",
      "metadata": {
        "id": "5fo7--eN8Rg4"
      },
      "source": [
        "import time\n",
        "import pandas as pd\n",
        "import numpy as np"
      ],
      "execution_count": null,
      "outputs": []
    },
    {
      "cell_type": "code",
      "metadata": {
        "colab": {
          "base_uri": "https://localhost:8080/"
        },
        "id": "iE7UqYv984MJ",
        "outputId": "42a3caa0-6905-49fb-810d-7ab6eb01c549"
      },
      "source": [
        "!wget https://raw.githubusercontent.com/carloslme/aws_machine_learning_foundations_udacity/main/class-4/books-published-last-two-years.txt\n",
        "!wget https://raw.githubusercontent.com/carloslme/aws_machine_learning_foundations_udacity/main/class-4/all-coding-books.txt"
      ],
      "execution_count": 1,
      "outputs": [
        {
          "output_type": "stream",
          "name": "stdout",
          "text": [
            "--2021-09-19 02:50:46--  https://raw.githubusercontent.com/carloslme/aws_machine_learning_foundations_udacity/main/class-4/books-published-last-two-years.txt\n",
            "Resolving raw.githubusercontent.com (raw.githubusercontent.com)... 185.199.110.133, 185.199.108.133, 185.199.109.133, ...\n",
            "Connecting to raw.githubusercontent.com (raw.githubusercontent.com)|185.199.110.133|:443... connected.\n",
            "HTTP request sent, awaiting response... 200 OK\n",
            "Length: 193264 (189K) [text/plain]\n",
            "Saving to: ‘books-published-last-two-years.txt’\n",
            "\n",
            "\r          books-pub   0%[                    ]       0  --.-KB/s               \rbooks-published-las 100%[===================>] 188.73K  --.-KB/s    in 0.009s  \n",
            "\n",
            "2021-09-19 02:50:46 (20.1 MB/s) - ‘books-published-last-two-years.txt’ saved [193264/193264]\n",
            "\n",
            "--2021-09-19 02:50:46--  https://raw.githubusercontent.com/carloslme/aws_machine_learning_foundations_udacity/main/class-4/all-coding-books.txt\n",
            "Resolving raw.githubusercontent.com (raw.githubusercontent.com)... 185.199.111.133, 185.199.109.133, 185.199.110.133, ...\n",
            "Connecting to raw.githubusercontent.com (raw.githubusercontent.com)|185.199.111.133|:443... connected.\n",
            "HTTP request sent, awaiting response... 200 OK\n",
            "Length: 257999 (252K) [text/plain]\n",
            "Saving to: ‘all-coding-books.txt’\n",
            "\n",
            "all-coding-books.tx 100%[===================>] 251.95K  --.-KB/s    in 0.01s   \n",
            "\n",
            "2021-09-19 02:50:46 (20.7 MB/s) - ‘all-coding-books.txt’ saved [257999/257999]\n",
            "\n"
          ]
        }
      ]
    },
    {
      "cell_type": "code",
      "metadata": {
        "id": "vBnx7CfU8Rg5"
      },
      "source": [
        "with open('/content/books-published-last-two-years.txt') as f:\n",
        "    recent_books = f.read().split('\\n')\n",
        "    \n",
        "with open('/content/all-coding-books.txt') as f:\n",
        "    coding_books = f.read().split('\\n')"
      ],
      "execution_count": 3,
      "outputs": []
    },
    {
      "cell_type": "code",
      "metadata": {
        "id": "Ziocb5Qq8Rg6"
      },
      "source": [
        "start = time.time()\n",
        "recent_coding_books = []\n",
        "\n",
        "for book in recent_books:\n",
        "    if book in coding_books:\n",
        "        recent_coding_books.append(book)\n",
        "\n",
        "print(len(recent_coding_books))\n",
        "print('Duration: {} seconds'.format(time.time() - start))"
      ],
      "execution_count": null,
      "outputs": []
    },
    {
      "cell_type": "markdown",
      "metadata": {
        "id": "WFXlhLeM8Rg6"
      },
      "source": [
        "### Tip #1: Use vector operations over loops when possible\n",
        "\n",
        "Use numpy's `intersect1d` method to get the intersection of the `recent_books` and `coding_books` arrays."
      ]
    },
    {
      "cell_type": "code",
      "metadata": {
        "id": "kM3ZT4G18Rg7"
      },
      "source": [
        "start = time.time()\n",
        "recent_coding_books =  # TODO: compute intersection of lists\n",
        "print(len(recent_coding_books))\n",
        "print('Duration: {} seconds'.format(time.time() - start))"
      ],
      "execution_count": null,
      "outputs": []
    },
    {
      "cell_type": "markdown",
      "metadata": {
        "id": "ml-wGZ4p8Rg7"
      },
      "source": [
        "### Tip #2: Know your data structures and which methods are faster\n",
        "Use the set's `intersection` method to get the common elements in `recent_books` and `coding_books`."
      ]
    },
    {
      "cell_type": "code",
      "metadata": {
        "id": "TI8u6MrX8Rg8"
      },
      "source": [
        "start = time.time()\n",
        "recent_coding_books =  # TODO: compute intersection of lists\n",
        "print(len(recent_coding_books))\n",
        "print('Duration: {} seconds'.format(time.time() - start))"
      ],
      "execution_count": null,
      "outputs": []
    },
    {
      "cell_type": "code",
      "metadata": {
        "id": "ZldzaxDZ8Rg8"
      },
      "source": [
        ""
      ],
      "execution_count": null,
      "outputs": []
    }
  ]
}